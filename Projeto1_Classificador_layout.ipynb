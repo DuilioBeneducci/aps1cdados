{
 "cells": [
  {
   "cell_type": "markdown",
   "metadata": {},
   "source": [
    "# Projeto 1 - Ciência dos Dados"
   ]
  },
  {
   "cell_type": "markdown",
   "metadata": {},
   "source": [
    "Nome: Duilio Caoam Beneducci Moraes\n",
    "\n",
    "Nome: Victoria Leal Garcia de Souza"
   ]
  },
  {
   "cell_type": "markdown",
   "metadata": {},
   "source": [
    "**Atenção:** Serão permitidos grupos de três pessoas, mas com uma rubrica mais exigente. Grupos deste tamanho precisarão fazer um questionário de avaliação de trabalho em equipe"
   ]
  },
  {
   "cell_type": "markdown",
   "metadata": {},
   "source": [
    "___\n",
    "Carregando algumas bibliotecas:"
   ]
  },
  {
   "cell_type": "code",
   "execution_count": 1,
   "metadata": {},
   "outputs": [],
   "source": [
    "%matplotlib inline\n",
    "import pandas as pd\n",
    "import matplotlib.pyplot as plt\n",
    "import numpy as np\n",
    "import os\n",
    "from emoji import UNICODE_EMOJI"
   ]
  },
  {
   "cell_type": "markdown",
   "metadata": {},
   "source": [
    "**Em `filename`, coloque o nome do seu arquivo de dados!**"
   ]
  },
  {
   "cell_type": "code",
   "execution_count": 2,
   "metadata": {
    "scrolled": false
   },
   "outputs": [
    {
     "name": "stdout",
     "output_type": "stream",
     "text": [
      "Encontrei o arquivo dados.xlsx, tudo certo para prosseguir com a prova!\n"
     ]
    }
   ],
   "source": [
    "import os\n",
    "\n",
    "filename = 'dados.xlsx'\n",
    "if filename in os.listdir():\n",
    "    print(f'Encontrei o arquivo {filename}, tudo certo para prosseguir com a prova!')\n",
    "else:\n",
    "    print(f'Não encontrei o arquivo {filename} aqui no diretório {os.getcwd()}, será que você não baixou o arquivo?')"
   ]
  },
  {
   "cell_type": "markdown",
   "metadata": {},
   "source": [
    "Carregando a base de dados com os tweets classificados como relevantes e não relevantes:"
   ]
  },
  {
   "cell_type": "code",
   "execution_count": 3,
   "metadata": {},
   "outputs": [
    {
     "data": {
      "text/html": [
       "<div>\n",
       "<style scoped>\n",
       "    .dataframe tbody tr th:only-of-type {\n",
       "        vertical-align: middle;\n",
       "    }\n",
       "\n",
       "    .dataframe tbody tr th {\n",
       "        vertical-align: top;\n",
       "    }\n",
       "\n",
       "    .dataframe thead th {\n",
       "        text-align: right;\n",
       "    }\n",
       "</style>\n",
       "<table border=\"1\" class=\"dataframe\">\n",
       "  <thead>\n",
       "    <tr style=\"text-align: right;\">\n",
       "      <th></th>\n",
       "      <th>Treinamento</th>\n",
       "      <th>Relevancia</th>\n",
       "    </tr>\n",
       "  </thead>\n",
       "  <tbody>\n",
       "    <tr>\n",
       "      <th>0</th>\n",
       "      <td>rt @dudacoutin_: vontade de comer brigadeiro, ...</td>\n",
       "      <td>1</td>\n",
       "    </tr>\n",
       "    <tr>\n",
       "      <th>1</th>\n",
       "      <td>qm q vai faze um brigadeiro branco p mim to co...</td>\n",
       "      <td>1</td>\n",
       "    </tr>\n",
       "    <tr>\n",
       "      <th>2</th>\n",
       "      <td>@vallnicolau tá agora eu to com vontade de com...</td>\n",
       "      <td>1</td>\n",
       "    </tr>\n",
       "    <tr>\n",
       "      <th>3</th>\n",
       "      <td>me deu uma vontade de comer brigadeiro com mor...</td>\n",
       "      <td>1</td>\n",
       "    </tr>\n",
       "    <tr>\n",
       "      <th>4</th>\n",
       "      <td>tava com vontade de comer abacaxi e brigadeiro...</td>\n",
       "      <td>1</td>\n",
       "    </tr>\n",
       "  </tbody>\n",
       "</table>\n",
       "</div>"
      ],
      "text/plain": [
       "                                         Treinamento  Relevancia\n",
       "0  rt @dudacoutin_: vontade de comer brigadeiro, ...           1\n",
       "1  qm q vai faze um brigadeiro branco p mim to co...           1\n",
       "2  @vallnicolau tá agora eu to com vontade de com...           1\n",
       "3  me deu uma vontade de comer brigadeiro com mor...           1\n",
       "4  tava com vontade de comer abacaxi e brigadeiro...           1"
      ]
     },
     "execution_count": 3,
     "metadata": {},
     "output_type": "execute_result"
    }
   ],
   "source": [
    "train = pd.read_excel(filename)\n",
    "train.head(5)"
   ]
  },
  {
   "cell_type": "code",
   "execution_count": 4,
   "metadata": {},
   "outputs": [
    {
     "data": {
      "text/html": [
       "<div>\n",
       "<style scoped>\n",
       "    .dataframe tbody tr th:only-of-type {\n",
       "        vertical-align: middle;\n",
       "    }\n",
       "\n",
       "    .dataframe tbody tr th {\n",
       "        vertical-align: top;\n",
       "    }\n",
       "\n",
       "    .dataframe thead th {\n",
       "        text-align: right;\n",
       "    }\n",
       "</style>\n",
       "<table border=\"1\" class=\"dataframe\">\n",
       "  <thead>\n",
       "    <tr style=\"text-align: right;\">\n",
       "      <th></th>\n",
       "      <th>Teste</th>\n",
       "      <th>relevancia</th>\n",
       "    </tr>\n",
       "  </thead>\n",
       "  <tbody>\n",
       "    <tr>\n",
       "      <th>0</th>\n",
       "      <td>meu deus  ea vontade d um brigadeiro pra hj</td>\n",
       "      <td>1</td>\n",
       "    </tr>\n",
       "    <tr>\n",
       "      <th>1</th>\n",
       "      <td>to morrendo de vontade de um brigadeiro, mas s...</td>\n",
       "      <td>0</td>\n",
       "    </tr>\n",
       "    <tr>\n",
       "      <th>2</th>\n",
       "      <td>vontade de comer brigadeiro quase queimado</td>\n",
       "      <td>1</td>\n",
       "    </tr>\n",
       "    <tr>\n",
       "      <th>3</th>\n",
       "      <td>uma vontade imensa de comer brigadeiro tô nem ...</td>\n",
       "      <td>1</td>\n",
       "    </tr>\n",
       "    <tr>\n",
       "      <th>4</th>\n",
       "      <td>a vontade de comer brigadeiro tá grande</td>\n",
       "      <td>1</td>\n",
       "    </tr>\n",
       "  </tbody>\n",
       "</table>\n",
       "</div>"
      ],
      "text/plain": [
       "                                               Teste  relevancia\n",
       "0        meu deus  ea vontade d um brigadeiro pra hj           1\n",
       "1  to morrendo de vontade de um brigadeiro, mas s...           0\n",
       "2         vontade de comer brigadeiro quase queimado           1\n",
       "3  uma vontade imensa de comer brigadeiro tô nem ...           1\n",
       "4            a vontade de comer brigadeiro tá grande           1"
      ]
     },
     "execution_count": 4,
     "metadata": {},
     "output_type": "execute_result"
    }
   ],
   "source": [
    "test = pd.read_excel(filename, sheet_name = 'Teste')\n",
    "test.head(5)"
   ]
  },
  {
   "cell_type": "code",
   "execution_count": 5,
   "metadata": {},
   "outputs": [
    {
     "data": {
      "text/plain": [
       "tá me dando vontade de fazer brigadeiro                                                                                                                                                     1\n",
       "fiz brigadeiro e perdi a vontade de comer 🤪                                                                                                                                                 1\n",
       "vontade de comer bolo de aniversário e me entupir de brigadeiro e beijinho                                                                                                                  1\n",
       "vontade de fazer um brigadeiro de oreo                                                                                                                                                      1\n",
       "vontade de comer um bolo de chocolate com bastante brigadeiro pqp tpm desgraçada 😩                                                                                                          1\n",
       "                                                                                                                                                                                           ..\n",
       "eu não aprendo a lição de ficar sem doce em casa. deu vontade agora, fui fazer um brigadeiro de microondas, resultado: sujei o microondas tudo, e não sobrou quase nada na xícara.  ódio    1\n",
       "vontade de comer brigadeiro de nesquik                                                                                                                                                      1\n",
       "vontade de comer brigadeiro 😥                                                                                                                                                               1\n",
       "mas antes vou comer meu brigadeiro com oreo que eu tô com vontade, e dps começo pra valer.😂😂                                                                                                1\n",
       "@estantedothales kkkk bateu vontade de brigadeiro agora. \\nobrigada por ter lido meu filho ♥                                                                                                1\n",
       "Name: Teste, Length: 159, dtype: int64"
      ]
     },
     "execution_count": 5,
     "metadata": {},
     "output_type": "execute_result"
    }
   ],
   "source": [
    "test.Teste.value_counts() #verificando se temos retweets"
   ]
  },
  {
   "cell_type": "markdown",
   "metadata": {},
   "source": [
    "___\n",
    "## Classificador automático de sentimento\n"
   ]
  },
  {
   "cell_type": "markdown",
   "metadata": {},
   "source": [
    "Faça aqui uma descrição do seu produto e o que considerou como relevante ou não relevante na classificação dos tweets.\n",
    "\n",
    "Se tem a ver com querer brigadeiro, ou querer comprar brigadeiro, consideramos relevantes. \"Não relevante\" diz respeito aos tweets que não tinham nada sobre brigadeiro, ou que eram sobre fazer brigadeiro."
   ]
  },
  {
   "cell_type": "markdown",
   "metadata": {},
   "source": [
    "___\n",
    "### Montando um Classificador Naive-Bayes\n",
    "\n",
    "Considerando apenas as mensagens da planilha Treinamento, ensine  seu classificador."
   ]
  },
  {
   "cell_type": "code",
   "execution_count": 6,
   "metadata": {},
   "outputs": [],
   "source": [
    "quer=''\n",
    "naoquer=''\n",
    "for i in range(len(train.Relevancia)):\n",
    "    if train.Relevancia[i] == 1:\n",
    "        quer=quer+train.Treinamento[i]\n",
    "\n",
    "for i in range(len(train.Relevancia)):\n",
    "    if train.Relevancia[i] == 0:\n",
    "        naoquer=naoquer+train.Treinamento[i]"
   ]
  },
  {
   "cell_type": "code",
   "execution_count": 7,
   "metadata": {},
   "outputs": [],
   "source": [
    "import re \n",
    "def cleanup(text):\n",
    "    #import string\n",
    "    punctuation = '[!-.:?;,(\\n)('')(\"\")/@(rt)(\\)]'\n",
    "    pattern = re.compile(punctuation)\n",
    "    text_subbed = re.sub(pattern, '', text)\n",
    "    return text_subbed\n",
    "\n",
    "def limpa(text): #separa emojis\n",
    "    return ''.join(' ' + char if char in UNICODE_EMOJI else char for char in text).strip()"
   ]
  },
  {
   "cell_type": "code",
   "execution_count": 8,
   "metadata": {},
   "outputs": [],
   "source": [
    "#limpa o texto\n",
    "quer_limpo=limpa(cleanup(quer.lower()))\n",
    "naoquer_limpo=limpa(cleanup(naoquer.lower()))\n",
    "\n",
    "#tranforma em um conjunto de palavras\n",
    "palavras_quer=quer_limpo.split()\n",
    "palavras_naoquer=naoquer_limpo.split()\n",
    "\n",
    "#gera uma planilha\n",
    "serie_quer=pd.Series(palavras_quer)\n",
    "serie_naoquer=pd.Series(palavras_naoquer)\n",
    "\n",
    "#conta as quantidades\n",
    "tabela_quer=serie_quer.value_counts()\n",
    "tabela_naoquer=serie_naoquer.value_counts()\n",
    "\n",
    "#faz as quantidades relativas\n",
    "relativo_quer=serie_quer.value_counts(True)\n",
    "relativo_naoquer=serie_naoquer.value_counts(True)"
   ]
  },
  {
   "cell_type": "code",
   "execution_count": 9,
   "metadata": {},
   "outputs": [
    {
     "name": "stderr",
     "output_type": "stream",
     "text": [
      "C:\\Users\\duili\\Anaconda3\\lib\\site-packages\\ipykernel_launcher.py:35: SettingWithCopyWarning: \n",
      "A value is trying to be set on a copy of a slice from a DataFrame\n",
      "\n",
      "See the caveats in the documentation: https://pandas.pydata.org/pandas-docs/stable/user_guide/indexing.html#returning-a-view-versus-a-copy\n",
      "C:\\Users\\duili\\Anaconda3\\lib\\site-packages\\ipykernel_launcher.py:37: SettingWithCopyWarning: \n",
      "A value is trying to be set on a copy of a slice from a DataFrame\n",
      "\n",
      "See the caveats in the documentation: https://pandas.pydata.org/pandas-docs/stable/user_guide/indexing.html#returning-a-view-versus-a-copy\n"
     ]
    },
    {
     "data": {
      "text/plain": [
       "1    83\n",
       "0    76\n",
       "Name: treinado, dtype: int64"
      ]
     },
     "execution_count": 9,
     "metadata": {},
     "output_type": "execute_result"
    }
   ],
   "source": [
    "#definindo variaveis\n",
    "probquer = len(serie_quer)/(len(serie_quer)+len(serie_naoquer))\n",
    "probnaoquer = len(serie_naoquer)/(len(serie_quer)+len(serie_naoquer))\n",
    "\n",
    "def classifica(x):\n",
    "    #criando local onde vai ficar as varaiveis\n",
    "    x.insert(2,\"treinado\",'')\n",
    "    for k in range(len(x.Teste)):\n",
    "        #gerando uma lista com os textos de cada célula\n",
    "        x2=''\n",
    "        x2=x.Teste[k]\n",
    "        #limpando o texto\n",
    "        x2=limpa(cleanup(x2.lower()))\n",
    "        #dividindo o texto em palavras\n",
    "        x3=x2.split()\n",
    "        #resetando variaveis\n",
    "        probFraseDadoq= 1\n",
    "        probFraseDadon= 1\n",
    "        #aqui mo trbalho está em cima de cada palavra\n",
    "        for i in range(len(x3)):\n",
    "            #verificando a probabilidade de estar no que quer o produto\n",
    "            if x3[i] in relativo_quer:\n",
    "                probFraseDadoq= probFraseDadoq *relativo_quer[x3[i]]\n",
    "                #se estiver ali pode estar no outro tambem então verificamos\n",
    "                if x3[i] in relativo_naoquer:\n",
    "                    probFraseDadon=probFraseDadon *relativo_naoquer[x3[i]]\n",
    "            #verificando se está apenas na probabilidade de não quer\n",
    "            elif x3[i] in relativo_naoquer:\n",
    "                probFraseDadon= probFraseDadon *relativo_naoquer[x3[i]]\n",
    "            #multiplica pela probabilidade global\n",
    "            probFraseDadoq=probFraseDadoq*probquer\n",
    "            probFraseDadon=probFraseDadon*probnaoquer\n",
    "        #define qual valor vai ser colocado na coluna criada\n",
    "        if (probFraseDadoq>probFraseDadon):\n",
    "            x.treinado[k]=1\n",
    "        elif (probFraseDadoq<probFraseDadon):\n",
    "            x.treinado[k]=0\n",
    "\n",
    "classifica(test)\n",
    "test.treinado.value_counts()"
   ]
  },
  {
   "cell_type": "markdown",
   "metadata": {},
   "source": [
    "___\n",
    "### Verificando a performance do Classificador\n",
    "\n",
    "Agora você deve testar o seu classificador com a base de Testes."
   ]
  },
  {
   "cell_type": "code",
   "execution_count": 10,
   "metadata": {},
   "outputs": [],
   "source": [
    "test.relevancia = test.relevancia.astype('int64')\n",
    "test.treinado = test.treinado.astype('int64')\n",
    "\n",
    "v1=test.relevancia\n",
    "v2=test.treinado\n"
   ]
  },
  {
   "cell_type": "code",
   "execution_count": 11,
   "metadata": {},
   "outputs": [
    {
     "name": "stdout",
     "output_type": "stream",
     "text": [
      "a porcentagem de verdadeiros positisvos é de:  55.434782608695656\n",
      "a porcentagem de Falsos positisvos é de:  44.565217391304344\n",
      "a porcentagem de verdadeiros negativos é de:  52.23880597014925\n",
      "a porcentagem de Falsos negativos é de:  47.76119402985074\n"
     ]
    }
   ],
   "source": [
    "#x é a relevancia y é o teste sempre.\n",
    "def performance(x,y):\n",
    "    #resetando variaveis\n",
    "    vp=0\n",
    "    vn=0\n",
    "    fp=0\n",
    "    fn=0\n",
    "    \n",
    "    for i in range(len(x)):\n",
    "        #verdadeiros\n",
    "        if x[i] == y[i]:\n",
    "            #positivo\n",
    "            if x[i] == 1:\n",
    "                vp +=1\n",
    "            #negativo\n",
    "            elif x[i] == 0:\n",
    "                vn +=1\n",
    "        #falsos\n",
    "        elif x[i] != y[i]:\n",
    "            #positivo\n",
    "            if x[i] == 1:\n",
    "                fp +=1\n",
    "            #negativo\n",
    "            elif x[i] == 0:\n",
    "                fn +=1\n",
    "    #definindo os valores relativos\n",
    "    n=vn+fn\n",
    "    p=vp+fp\n",
    "    vp=(vp/p)*100\n",
    "    fp=(fp/p)*100\n",
    "    vn=(vn/n)*100\n",
    "    fn=(fn/n)*100\n",
    "    \n",
    "    print(\"a porcentagem de verdadeiros positisvos é de: \",vp)\n",
    "    print(\"a porcentagem de Falsos positisvos é de: \",fp)\n",
    "    print(\"a porcentagem de verdadeiros negativos é de: \",vn)\n",
    "    print(\"a porcentagem de Falsos negativos é de: \",fn)\n",
    "performance(v1,v2)"
   ]
  },
  {
   "cell_type": "code",
   "execution_count": 12,
   "metadata": {},
   "outputs": [
    {
     "data": {
      "text/html": [
       "<div>\n",
       "<style scoped>\n",
       "    .dataframe tbody tr th:only-of-type {\n",
       "        vertical-align: middle;\n",
       "    }\n",
       "\n",
       "    .dataframe tbody tr th {\n",
       "        vertical-align: top;\n",
       "    }\n",
       "\n",
       "    .dataframe thead th {\n",
       "        text-align: right;\n",
       "    }\n",
       "</style>\n",
       "<table border=\"1\" class=\"dataframe\">\n",
       "  <thead>\n",
       "    <tr style=\"text-align: right;\">\n",
       "      <th>treinado</th>\n",
       "      <th>0</th>\n",
       "      <th>1</th>\n",
       "    </tr>\n",
       "    <tr>\n",
       "      <th>relevancia</th>\n",
       "      <th></th>\n",
       "      <th></th>\n",
       "    </tr>\n",
       "  </thead>\n",
       "  <tbody>\n",
       "    <tr>\n",
       "      <th>0</th>\n",
       "      <td>35</td>\n",
       "      <td>32</td>\n",
       "    </tr>\n",
       "    <tr>\n",
       "      <th>1</th>\n",
       "      <td>41</td>\n",
       "      <td>51</td>\n",
       "    </tr>\n",
       "  </tbody>\n",
       "</table>\n",
       "</div>"
      ],
      "text/plain": [
       "treinado     0   1\n",
       "relevancia        \n",
       "0           35  32\n",
       "1           41  51"
      ]
     },
     "execution_count": 12,
     "metadata": {},
     "output_type": "execute_result"
    }
   ],
   "source": [
    "pd.crosstab(test.relevancia,test.treinado)"
   ]
  },
  {
   "cell_type": "code",
   "execution_count": 13,
   "metadata": {},
   "outputs": [
    {
     "name": "stdout",
     "output_type": "stream",
     "text": [
      "52.23880597014925 47.76119402985074 55.434782608695656 44.565217391304344\n"
     ]
    },
    {
     "data": {
      "text/plain": [
       "53.83679428942246"
      ]
     },
     "execution_count": 13,
     "metadata": {},
     "output_type": "execute_result"
    }
   ],
   "source": [
    "#verificando se é correto\n",
    "vn=(35/67)*100\n",
    "fn=(32/67)*100\n",
    "fp=(41/92)*100\n",
    "vp=(51/92)*100\n",
    "print(vn,fn,vp,fp)\n",
    "#média do desemprenho\n",
    "(vp+vn)/2"
   ]
  },
  {
   "cell_type": "markdown",
   "metadata": {},
   "source": [
    "___\n",
    "### Concluindo"
   ]
  },
  {
   "cell_type": "markdown",
   "metadata": {},
   "source": [
    "Podemos concluir que o nosso classificador precisa de mais acurácia, pois sua performance ficou perto dos 50%. Precisariamos melhorar seu desempenho; uma forma de fazer isso seria criar maneiras de corrigir palavras erradas que acabam aparecendo apenas uma vez na base de dados, e assim atrapalha os valores relativos e absolutos.\n",
    "\n",
    "Mensagens sarcásticas e de dupla negação não são identificadas assim, ou seja, o processamento de dados não sabe identificar isso, uma vez que o programa interpreta palavra por palavra, gerando uma maior probabilidade de falsos positivos e negativos.\n",
    "\n",
    "Como futura expansão colocaríamos um corretor de texto, e geraria uma maior base de dados para o program, pois assim ele poderia reconhecer mais palavras para gerar um maior índice de acerto.\n",
    "\n",
    "Não poderíamos alimentar a base de treinamento por si, pois primeiro a base de treinamento tem uma taxa relativamente baixa de acerto, e as palavras que não são reconhecidas ainda podem gerar conflitos na base de dados, onde uma palavra ainda não classificada pode gerar um erro para as antigas classificações.\n",
    "\n",
    "Um cenário fora do contexto do projeto em que o classificador pode ser usado são as plataformas de streaming de música (como Spotify ou Deezer), onde um usuário pode escrever uma parte de uma música, e o classificador procuraria na sua base de dados a qual música ela pertence - claro, com uma base de dados muito maior que a nossa e com uma leitura condicional onde a primeira palavra deve estar associada a segunda e assim por diante, além de considerar erros ao lembrar a letra (trocar alguma palavra, por exemplo). Outro cenário seria para o uso em bibliotecas, onde por frases de um autor seria possível encontrar suas obras e/ou quais obras fazem referência àquele autor.\n",
    "\n",
    "Uma forma de melhorar nosso classificador seria de passar palavra por palvra em um corretor de ortografia como o da Google (para isso poderíamos usar um código npl dentro de cada palavra), além de reconhecer conjuntos de palavras - não só palavras individuais (gerando bases de dados com duas variáveis em uma lista), assim possibilitando um erro menor por casos de sarcasmo e coloquialismos.\n",
    "\n",
    "Outra iteração possível seria gerar classificações para derivados de brigadeiro. Como na base havia muita pipoca com brigadeiro e bolo de brigadeiro, isso poderia indicar qual o maior interesse e poderia portanto agir como uma classificação secundária dentro da relevância ou não de um produto simplesmente adicionando uma coluna com esses valores na base de dados. No entanto, isso implicaria em ter que reescrever a classificação, uma vez que descartamos as vontades de derivados do produto principal."
   ]
  },
  {
   "cell_type": "markdown",
   "metadata": {},
   "source": [
    "___\n",
    "## Aperfeiçoamento:\n",
    "\n",
    "Os trabalhos vão evoluir em conceito dependendo da quantidade de itens avançados:\n",
    "\n",
    "* Limpar: \\n, :, \", ', (, ), etc SEM remover emojis\n",
    "* Corrigir separação de espaços entre palavras e emojis ou entre emojis e emojis\n",
    "* Propor outras limpezas e transformações que não afetem a qualidade da informação ou classificação\n",
    "* Criar categorias intermediárias de relevância baseadas na probabilidade: ex.: muito relevante, relevante, neutro, irrelevante, muito irrelevante (3 categorias: C, mais categorias conta para B)\n",
    "* Explicar por que não posso usar o próprio classificador para gerar mais amostras de treinamento\n",
    "* Propor diferentes cenários para Naïve Bayes fora do contexto do projeto\n",
    "* Sugerir e explicar melhorias reais com indicações concretas de como implementar (indicar como fazer e indicar material de pesquisa)\n",
    "* Montar um dashboard que realiza análise de sentimento e visualiza estes dados"
   ]
  },
  {
   "cell_type": "markdown",
   "metadata": {},
   "source": [
    "___\n",
    "## Referências"
   ]
  },
  {
   "cell_type": "markdown",
   "metadata": {},
   "source": [
    "[Naive Bayes and Text Classification](https://arxiv.org/pdf/1410.5329.pdf)  **Mais completo**\n",
    "\n",
    "[A practical explanation of a Naive Bayes Classifier](https://monkeylearn.com/blog/practical-explanation-naive-bayes-classifier/) **Mais simples**"
   ]
  }
 ],
 "metadata": {
  "kernelspec": {
   "display_name": "Python 3",
   "language": "python",
   "name": "python3"
  },
  "language_info": {
   "codemirror_mode": {
    "name": "ipython",
    "version": 3
   },
   "file_extension": ".py",
   "mimetype": "text/x-python",
   "name": "python",
   "nbconvert_exporter": "python",
   "pygments_lexer": "ipython3",
   "version": "3.7.6"
  }
 },
 "nbformat": 4,
 "nbformat_minor": 4
}
